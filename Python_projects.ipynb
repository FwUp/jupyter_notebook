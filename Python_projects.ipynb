{
 "cells": [
  {
   "cell_type": "markdown",
   "metadata": {},
   "source": [
    "<h1>simple python fuction below</h1>"
   ]
  },
  {
   "cell_type": "code",
   "execution_count": 1,
   "metadata": {},
   "outputs": [
    {
     "name": "stdout",
     "output_type": "stream",
     "text": [
      "Hello Jupyter!\n"
     ]
    }
   ],
   "source": [
    "print('Hello Jupyter!')"
   ]
  },
  {
   "cell_type": "markdown",
   "metadata": {},
   "source": [
    "## executing bash command inside notebook"
   ]
  },
  {
   "cell_type": "code",
   "execution_count": 3,
   "metadata": {
    "scrolled": true
   },
   "outputs": [
    {
     "name": "stdout",
     "output_type": "stream",
     "text": [
      "aca\t\t      Html_CSS_JavaScript_Basics  random_imp_staff.txt\r\n",
      "Beograd_Provod.info   html_css_js_project\t  Share\r\n",
      "book_reader\t      images\t\t\t  Skola\r\n",
      "codecademy_projects   interesting_topics.txt\t  skripte\r\n",
      "courses\t\t      knjige\t\t\t  TEST\r\n",
      "firefox.desktop       music\t\t\t  tkinter_book_github\r\n",
      "german_book_info.txt  MyApp\t\t\t  vids\r\n",
      "GIT\t\t      python_os_module_infos.txt  vim_notes.txt\r\n",
      "GUI\t\t      Python_projects.ipynb\t  wallpapers\r\n"
     ]
    }
   ],
   "source": [
    "!ls"
   ]
  },
  {
   "cell_type": "code",
   "execution_count": null,
   "metadata": {},
   "outputs": [],
   "source": []
  }
 ],
 "metadata": {
  "kernelspec": {
   "display_name": "Python 3",
   "language": "python",
   "name": "python3"
  },
  "language_info": {
   "codemirror_mode": {
    "name": "ipython",
    "version": 3
   },
   "file_extension": ".py",
   "mimetype": "text/x-python",
   "name": "python",
   "nbconvert_exporter": "python",
   "pygments_lexer": "ipython3",
   "version": "3.6.8"
  }
 },
 "nbformat": 4,
 "nbformat_minor": 2
}
